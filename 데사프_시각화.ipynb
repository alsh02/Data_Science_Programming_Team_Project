{
  "nbformat": 4,
  "nbformat_minor": 0,
  "metadata": {
    "colab": {
      "private_outputs": true,
      "provenance": [],
      "authorship_tag": "ABX9TyPhJtt5YbAygyYYdBM+rkY3",
      "include_colab_link": true
    },
    "kernelspec": {
      "name": "python3",
      "display_name": "Python 3"
    },
    "language_info": {
      "name": "python"
    }
  },
  "cells": [
    {
      "cell_type": "markdown",
      "metadata": {
        "id": "view-in-github",
        "colab_type": "text"
      },
      "source": [
        "<a href=\"https://colab.research.google.com/github/alsh02/Data_Science_Programming_Team_Project/blob/main/%EB%8D%B0%EC%82%AC%ED%94%84_%EC%8B%9C%EA%B0%81%ED%99%94.ipynb\" target=\"_parent\"><img src=\"https://colab.research.google.com/assets/colab-badge.svg\" alt=\"Open In Colab\"/></a>"
      ]
    },
    {
      "cell_type": "code",
      "source": [
        "!sudo apt-get install -y fonts-nanum\n",
        "!sudo fc-cache -fv\n",
        "!rm ~/.cache/matplotlib -rf"
      ],
      "metadata": {
        "id": "Ds0Y0ozaQ0az"
      },
      "execution_count": null,
      "outputs": []
    },
    {
      "cell_type": "code",
      "execution_count": null,
      "metadata": {
        "id": "yPHYXwKrQSZC"
      },
      "outputs": [],
      "source": [
        "from google.colab import drive\n",
        "drive.mount('/content/drive')"
      ]
    },
    {
      "cell_type": "code",
      "source": [
        "import matplotlib.pyplot as plt\n",
        "import matplotlib.ticker as mticker\n",
        "import pandas as pd\n",
        "import numpy as np"
      ],
      "metadata": {
        "id": "lav4fTGoQ9uU"
      },
      "execution_count": null,
      "outputs": []
    },
    {
      "cell_type": "code",
      "source": [
        "from IPython.display import display"
      ],
      "metadata": {
        "id": "sVNl8rcYIsEc"
      },
      "execution_count": null,
      "outputs": []
    },
    {
      "cell_type": "code",
      "source": [
        "years = [\"2014년\", \"2015년\", \"2016년\", \"2017년\", \"2018년\", \"2019년\", \"2020년\", \"2021년\"]\n",
        "\n",
        "# 마약류사범 연령별 현황\n",
        "by_age_total = pd.read_excel(\"/content/drive/MyDrive/데이터사이언스프로그래밍/csv_file/2014_2021_마약류사범_연령별_현황.xlsx\")\n",
        "by_age_total.index = years\n",
        "by_age_total = by_age_total.drop([by_age_total.columns[0]], axis=1)\n",
        "display(by_age_total)\n",
        "\n",
        "# 마약사범 연령별 현황\n",
        "by_age_drug = pd.read_excel(\"/content/drive/MyDrive/데이터사이언스프로그래밍/csv_file/2014_2021_마약사범_연령별_현황.xlsx\")\n",
        "by_age_drug.index = years\n",
        "display(by_age_drug)\n",
        "\n",
        "# 향정사범 연령별 현황\n",
        "by_age_psycho = pd.read_excel(\"/content/drive/MyDrive/데이터사이언스프로그래밍/csv_file/2014_2021_향정사범_연령별_현황.xlsx\")\n",
        "by_age_psycho.index = years\n",
        "display(by_age_psycho)\n",
        "\n",
        "# 대마사범 연령별 현황\n",
        "by_age_cannibus = pd.read_excel(\"/content/drive/MyDrive/데이터사이언스프로그래밍/csv_file/2014_2021_대마사범_연령별_현황.xlsx\")\n",
        "by_age_cannibus.index = years\n",
        "display(by_age_cannibus)"
      ],
      "metadata": {
        "id": "-6CdTg1xBr9p"
      },
      "execution_count": null,
      "outputs": []
    },
    {
      "cell_type": "code",
      "source": [
        "# 지역별 건수 관련 데이터\n",
        "regions = [\"서울\", \"인천, 경기\", \"부산\", \"울산, 경남\", \"대구, 경북\", \"대전, 충남\", \"강원\", \"전북\", \"광주, 전남\", \"충북\", \"제주\"]\n",
        "seoul = [2123, 2319, 2792, 2789, 2677, 3607, 4015, 4044]\n",
        "incheon_gyeongi = [2683, 3584, 4010, 4045, 3530, 4931, 5555, 5407]\n",
        "busan = [1099, 1127, 1308, 1380, 1125, 935, 1191, 880]\n",
        "ulsan_gyeongnam = [937, 937, 1171, 1308, 1001, 1156, 1278, 988]\n",
        "daegu_gyeongbuk = [873, 967, 1102, 1133, 977, 1193, 1320, 1015]\n",
        "daejeon_chungnam = [501, 584, 843, 792, 751, 923, 1112, 932]\n",
        "gangwon = [345, 464, 468, 384, 363, 538, 465, 351]\n",
        "jeonbuk = [115, 105, 167, 150, 140, 226, 274, 204]\n",
        "gwangju_jeonnam = [242, 365, 460, 381, 391, 468, 751,715]\n",
        "chungbuk = [169, 236, 390, 371, 362, 419, 455, 370]\n",
        "jaeju = [37, 72, 66, 81, 56, 89, 93, 75]\n",
        "\n",
        "# 항목별 건수 관련 데이터\n",
        "total = [9984, 11916, 14214, 14123, 12613, 16044, 18050, 16153]\n",
        "teenage_drug = [0, 0, 2, 0, 2, 3, 39, 196] \n",
        "teenage_psycho = [48, 78, 91, 70, 105, 167, 196, 192]\n",
        "teenage_cannibus = [56, 50, 28, 49, 36, 69, 78, 62]"
      ],
      "metadata": {
        "id": "bFP6wa2u5W5E"
      },
      "execution_count": null,
      "outputs": []
    },
    {
      "cell_type": "code",
      "source": [
        "by_region = pd.DataFrame([seoul, incheon_gyeongi,\n",
        "                          busan, ulsan_gyeongnam,\n",
        "                          daegu_gyeongbuk, daejeon_chungnam,\n",
        "                          gangwon, jeonbuk,\n",
        "                          gwangju_jeonnam, chungbuk, jaeju], index=regions, columns=years)\n",
        "by_region"
      ],
      "metadata": {
        "id": "n_WxzOysB7Vk"
      },
      "execution_count": null,
      "outputs": []
    },
    {
      "cell_type": "code",
      "source": [
        "# 마약류사범 연령별 현황 시각화 함수\n",
        "def by_age_visualization(year):\n",
        "    width = 0.2\n",
        "    x = np.arange(len(by_age_total.columns))\n",
        "\n",
        "    plt.rc('font', family='NanumBarunGothic')\n",
        "    plt.figure(figsize=(20, 8), dpi=500)\n",
        "    plt.style.use(\"ggplot\")\n",
        "    plt.xticks(np.arange(width + 0.1, width + len(by_age_total.columns), 1), by_age_total.columns)\n",
        "\n",
        "    plt.title(f\"{year} 마약류사범 연령별 현황\")\n",
        "\n",
        "    plt.bar(x, by_age_total.loc[year], width, label=\"계\")\n",
        "    plt.bar(x + width, by_age_drug.loc[year], width, label=\"마약\")\n",
        "    plt.bar(x + 2 * width, by_age_psycho.loc[year], width, label=\"향정\")\n",
        "    plt.bar(x + 3 * width, by_age_cannibus.loc[year], width, label=\"대마\")\n",
        "\n",
        "    plt.gca().yaxis.set_major_formatter(mticker.FormatStrFormatter(\"%i명\"))\n",
        "    plt.legend()"
      ],
      "metadata": {
        "id": "wkdRTjCHLRHa"
      },
      "execution_count": null,
      "outputs": []
    },
    {
      "cell_type": "code",
      "source": [
        "by_age_visualization(\"2014년\")"
      ],
      "metadata": {
        "id": "jNx72THsPkEg"
      },
      "execution_count": null,
      "outputs": []
    },
    {
      "cell_type": "code",
      "source": [
        "by_age_visualization(\"2015년\")"
      ],
      "metadata": {
        "id": "YtLpFndhPkac"
      },
      "execution_count": null,
      "outputs": []
    },
    {
      "cell_type": "code",
      "source": [
        "by_age_visualization(\"2016년\")"
      ],
      "metadata": {
        "id": "X8O7Q9WPPkis"
      },
      "execution_count": null,
      "outputs": []
    },
    {
      "cell_type": "code",
      "source": [
        "by_age_visualization(\"2017년\")"
      ],
      "metadata": {
        "id": "YA5gkdgmPkmm"
      },
      "execution_count": null,
      "outputs": []
    },
    {
      "cell_type": "code",
      "source": [
        "by_age_visualization(\"2018년\")"
      ],
      "metadata": {
        "id": "2r1FbqKXPkqA"
      },
      "execution_count": null,
      "outputs": []
    },
    {
      "cell_type": "code",
      "source": [
        "by_age_visualization(\"2019년\")"
      ],
      "metadata": {
        "id": "LJEK_7B3Pks-"
      },
      "execution_count": null,
      "outputs": []
    },
    {
      "cell_type": "code",
      "source": [
        "by_age_visualization(\"2020년\")"
      ],
      "metadata": {
        "id": "Hyt5Uh9yPkwA"
      },
      "execution_count": null,
      "outputs": []
    },
    {
      "cell_type": "code",
      "source": [
        "by_age_visualization(\"2021년\")"
      ],
      "metadata": {
        "id": "UtAVuQ_-PkzH"
      },
      "execution_count": null,
      "outputs": []
    },
    {
      "cell_type": "code",
      "source": [
        "# 2014~2021년 청소년 마약류사범 현황 시각화\n",
        "length = len(years)\n",
        "\n",
        "x = np.arange(0, length)\n",
        "\n",
        "plt.rc('font', family='NanumBarunGothic')\n",
        "plt.figure(figsize=(8, 12), dpi=500)\n",
        "plt.style.use(\"ggplot\")\n",
        "plt.xticks(x, years)\n",
        "\n",
        "plt.title(\"2014~2021년 청소년 마약류사범 현황\")\n",
        "plt.plot(x, by_age_total.iloc[:, 0], '-s', label=\"계\")\n",
        "plt.plot(x, by_age_drug.iloc[:, 0], '-s', label=\"마약\")\n",
        "plt.plot(x, by_age_psycho.iloc[:, 0], '-s', label=\"향정\")\n",
        "plt.plot(x, by_age_cannibus.iloc[:, 0], '-s', label=\"대마\")\n",
        "\n",
        "for idx, number in enumerate(by_age_total.iloc[:, 0].values):\n",
        "    plt.text(idx, number * 1.02, str(number) + \"명\", ha=\"center\")\n",
        "\n",
        "for idx, number in enumerate(by_age_drug.iloc[:, 0].values):\n",
        "    plt.text(idx, number * 1.02, str(number) + \"명\", ha=\"center\")\n",
        "\n",
        "for idx, number in enumerate(by_age_psycho.iloc[:, 0].values):\n",
        "    plt.text(idx, number * 1.02, str(number) + \"명\", ha=\"center\")\n",
        "\n",
        "for idx, number in enumerate(by_age_cannibus.iloc[:, 0].values):\n",
        "    plt.text(idx, number * 1.02, str(number) + \"명\", ha=\"center\")\n",
        "\n",
        "plt.gca().yaxis.set_major_formatter(mticker.FormatStrFormatter(\"%i명\"))\n",
        "plt.legend()"
      ],
      "metadata": {
        "id": "KMU_DTLIiL9G"
      },
      "execution_count": null,
      "outputs": []
    },
    {
      "cell_type": "code",
      "source": [
        "man = [8606, 9644, 11315, 11102, 9894, 12467, 13493, 12335]\n",
        "woman = [1378, 2272, 2899, 3012, 2719, 3577, 4557, 3818]\n",
        "\n",
        "plt.rc('font', family='NanumBarunGothic')\n",
        "plt.figure(figsize=(8, 12), dpi=500)\n",
        "plt.style.use(\"ggplot\")\n",
        "plt.xticks(x, years)\n",
        "\n",
        "plt.title(\"2014~2021년 마약류사범 성별 현황\")\n",
        "plt.plot(x, man, '-s', label=\"남\")\n",
        "plt.plot(x, woman, '-s', label=\"여\")\n",
        "\n",
        "for idx, number in enumerate(man):\n",
        "  plt.text(idx, number * 1.02, str(number) + \"명\", ha=\"center\")\n",
        "\n",
        "for idx, number in enumerate(woman):\n",
        "  plt.text(idx, number * 1.02, str(number) + \"명\", ha=\"center\")\n",
        "\n",
        "plt.gca().yaxis.set_major_formatter(mticker.FormatStrFormatter(\"%i명\"))\n",
        "plt.legend()"
      ],
      "metadata": {
        "id": "yb6hugPozsr-"
      },
      "execution_count": null,
      "outputs": []
    },
    {
      "cell_type": "code",
      "source": [
        "width = 0.1\n",
        "region_index = np.arange(len(by_region))\n",
        "\n",
        "plt.rc('font', family='NanumBarunGothic')\n",
        "plt.figure(figsize=(20, 12), dpi=500)\n",
        "plt.style.use(\"ggplot\")\n",
        "plt.xticks(np.arange(0.3 + width, width + len(by_region), 1), regions)\n",
        "\n",
        "plt.title(\"2014~2021년 지역별 마약범죄 발생 건수\")\n",
        "plt.xlabel(\"지역\")\n",
        "plt.ylabel(\"발생 건수\")\n",
        "for idx, year in enumerate(years):\n",
        "  plt.bar(region_index + idx * width, by_region[year], width, label=year)\n",
        "\n",
        "plt.gca().yaxis.set_major_formatter(mticker.FormatStrFormatter(\"%i명\"))\n",
        "plt.legend()"
      ],
      "metadata": {
        "id": "H6Hqz4owCYHM"
      },
      "execution_count": null,
      "outputs": []
    },
    {
      "cell_type": "code",
      "source": [
        "# 증감률\n",
        "by_region[\"증감률\"] = ((by_region[\"2021년\"] - by_region[\"2014년\"]) / by_region[\"2014년\"]) * 100\n",
        "by_region"
      ],
      "metadata": {
        "id": "CYzFQSgLjyTT"
      },
      "execution_count": null,
      "outputs": []
    },
    {
      "cell_type": "code",
      "source": [
        "plt.rc('font', family='NanumBarunGothic')\n",
        "plt.figure(figsize=(20, 12), dpi=500)\n",
        "plt.style.use(\"ggplot\")\n",
        "plt.xticks(region_index, regions)\n",
        "\n",
        "plt.title(\"2014년, 2021년 간 지역별 마약류사범 증감률\")\n",
        "\n",
        "plt.axhline(y=0, linestyle='--')\n",
        "plt.bar(region_index, by_region[\"증감률\"], 0.3)\n",
        "for idx, number in enumerate(by_region[\"증감률\"]):\n",
        "    if number > 0:\n",
        "        plt.text(idx, number * 1.02, \"{:.1f}\".format(number) + \"%\", ha=\"center\")\n",
        "    else:\n",
        "        plt.text(idx, number * 1.2, \"{:.1f}\".format(number) + \"%\", ha=\"center\")"
      ],
      "metadata": {
        "id": "U3E5GxvGltCA"
      },
      "execution_count": null,
      "outputs": []
    }
  ]
}